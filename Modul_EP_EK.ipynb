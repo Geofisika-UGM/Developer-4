{
 "cells": [
  {
   "cell_type": "code",
   "execution_count": 2,
   "id": "119b3a09",
   "metadata": {},
   "outputs": [],
   "source": [
    "#Energi Potensial 1\n",
    "def Ep1(rho,r,h1):\n",
    "    \"\"\"Energi potensial\n",
    "    Argument:\n",
    "        m (float/int): Massa benda\n",
    "        h (float/int): Ketinggian benda sebelum jatuh\n",
    "        g (float) : Gravitasi\n",
    "        rho (float) : Massa jenis benda\n",
    "        r (float/int) : jari-jari bola\n",
    "        \n",
    "    Return:\n",
    "        Ep1 (float): energi potensial sebelum jatuh\n",
    "    \"\"\"\n",
    "    g = 9.806\n",
    "    m = rho*4/3*22/7*r**3\n",
    "    Ep1=m*g*h1\n",
    "    return Ep1\n"
   ]
  },
  {
   "cell_type": "code",
   "execution_count": 3,
   "id": "2df0e802",
   "metadata": {},
   "outputs": [],
   "source": [
    "#Energi Potensial 2\n",
    "def Ep2(rho,r,h2):\n",
    "    \"\"\"Energi potensial\n",
    "    Argument:\n",
    "        m (float/int): Massa benda\n",
    "        h2 (float/int): Ketinggian benda saat jatuh\n",
    "        g (float) : Gravitasi\n",
    "        rho (float) : Massa jenis benda\n",
    "        r (float/int) : jari-jari bola\n",
    "        \n",
    "    Return:\n",
    "        Ep2 (float): energi potensial saat jatuh\n",
    "    \"\"\"\n",
    "    g = 9.806\n",
    "    m = rho*4/3*22/7*r**3\n",
    "    Ep2=m*g*h2\n",
    "    return Ep2"
   ]
  },
  {
   "cell_type": "code",
   "execution_count": 9,
   "id": "3e9c82db",
   "metadata": {},
   "outputs": [],
   "source": [
    "# Energi kinetik 2\n",
    "def Ek2(rho, r, h1, h2):\n",
    "    \"\"\"Energi Kinetik\n",
    "    Argument:\n",
    "        m (float/int): Massa benda\n",
    "        h1 (float/int): Ketinggian benda sebelum jatuh\n",
    "        h2 (float/int): Ketinggian benda saat jatuh\n",
    "        g (float) : Gravitasi\n",
    "        rho (float) : Massa jenis benda\n",
    "        r (float/int) : jari-jari bola\n",
    "        Ek1 (int) : energi kinetik benda sebelum jatuh\n",
    "        Ep1 (float) : energi potensian sebelum jatuh \n",
    "        Ep2 (float) : energi potensial setelah jatuh \n",
    "        \n",
    "    Return:\n",
    "        Ek2 (float): energi kinetik saat jatuh\n",
    "    \"\"\"\n",
    "    g = 9.806\n",
    "    m = rho*4/3*22/7*r**3\n",
    "    Ep1 = m*g*h1\n",
    "    Ep2 = m*g*h2\n",
    "    Ek1 = 0\n",
    "    Ek2 = Ep1 + Ek1 - Ep2\n",
    "    return Ek2"
   ]
  },
  {
   "cell_type": "code",
   "execution_count": 5,
   "id": "9ba76275",
   "metadata": {},
   "outputs": [
    {
     "data": {
      "text/plain": [
       "102729.52380952379"
      ]
     },
     "execution_count": 5,
     "metadata": {},
     "output_type": "execute_result"
    }
   ],
   "source": [
    "Ep1(2000, 0.5, 10)"
   ]
  },
  {
   "cell_type": "code",
   "execution_count": 6,
   "id": "7a9ee07a",
   "metadata": {},
   "outputs": [
    {
     "data": {
      "text/plain": [
       "61637.71428571427"
      ]
     },
     "execution_count": 6,
     "metadata": {},
     "output_type": "execute_result"
    }
   ],
   "source": [
    "Ep2(2000, 0.5, 6)"
   ]
  },
  {
   "cell_type": "code",
   "execution_count": 10,
   "id": "4b8f2779",
   "metadata": {},
   "outputs": [
    {
     "data": {
      "text/plain": [
       "41091.80952380952"
      ]
     },
     "execution_count": 10,
     "metadata": {},
     "output_type": "execute_result"
    }
   ],
   "source": [
    "Ek2(2000, 0.5, 10, 6)"
   ]
  }
 ],
 "metadata": {
  "kernelspec": {
   "display_name": "Python 3 (ipykernel)",
   "language": "python",
   "name": "python3"
  },
  "language_info": {
   "codemirror_mode": {
    "name": "ipython",
    "version": 3
   },
   "file_extension": ".py",
   "mimetype": "text/x-python",
   "name": "python",
   "nbconvert_exporter": "python",
   "pygments_lexer": "ipython3",
   "version": "3.9.12"
  }
 },
 "nbformat": 4,
 "nbformat_minor": 5
}
